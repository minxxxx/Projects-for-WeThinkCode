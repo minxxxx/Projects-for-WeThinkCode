{
 "cells": [
  {
   "cell_type": "code",
   "execution_count": 9,
   "metadata": {},
   "outputs": [
    {
     "name": "stdout",
     "output_type": "stream",
     "text": [
      "42 est de type <class 'int'>\n",
      "42 est de type <class 'str'>\n",
      "quarante-deux est de type <class 'str'>\n",
      "42.0 est de type <class 'float'>\n",
      "True est de type <class 'bool'>\n",
      "[42] est de type <class 'list'>\n",
      "{42: 42} est de type <class 'dict'>\n",
      "(42,) est de type <class 'tuple'>\n",
      "set() est de type <class 'set'>\n"
     ]
    }
   ],
   "source": [
    "# 42 est de type <class 'int'>\n",
    "# 42 est de type <class 'str'>\n",
    "# quarante-deux est de type <class 'str'>\n",
    "# 42.0 est de type <class 'float'>\n",
    "# True est de type <class 'bool'>\n",
    "# [42] est de type <class 'list'>\n",
    "# {42: 42} est de type <class 'dict'>\n",
    "# (42,) est de type <class 'tuple'>\n",
    "# set() est de type <class 'set'>\n",
    "\n",
    "l = [42, '42', 'quarante-deux', 42.0, True, [42], {42:42}, (42,), set()]\n",
    "\n",
    "def my_var():\n",
    "    for i in l:\n",
    "        print(str(i) + ' est de type ' + str(type(i)))\n",
    "    \n",
    "if __name__ == '__main__':\n",
    "    my_var()"
   ]
  }
 ],
 "metadata": {
  "kernelspec": {
   "display_name": "Python 3",
   "language": "python",
   "name": "python3"
  },
  "language_info": {
   "codemirror_mode": {
    "name": "ipython",
    "version": 3
   },
   "file_extension": ".py",
   "mimetype": "text/x-python",
   "name": "python",
   "nbconvert_exporter": "python",
   "pygments_lexer": "ipython3",
   "version": "3.6.5"
  }
 },
 "nbformat": 4,
 "nbformat_minor": 2
}
