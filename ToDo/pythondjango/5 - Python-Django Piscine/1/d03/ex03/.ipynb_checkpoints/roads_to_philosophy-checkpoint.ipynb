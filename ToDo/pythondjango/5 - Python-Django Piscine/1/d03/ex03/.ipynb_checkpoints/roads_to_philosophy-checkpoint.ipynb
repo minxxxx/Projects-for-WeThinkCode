{
 "cells": [
  {
   "cell_type": "code",
   "execution_count": 110,
   "metadata": {},
   "outputs": [],
   "source": [
    "import requests\n",
    "from lxml import html\n",
    "from bs4 import BeautifulSoup\n",
    "import re\n",
    "\n",
    "# word = 'russia'\n",
    "\n",
    "def filter(tag):\n",
    "    from bs4 import BeautifulSoup\n",
    "\n",
    "    return tag is not None  and not tag.has_attr(\"role\") and not tag.name == \"abbr\" and not tag.name == \"img\" and tag.name == 'a'\n",
    "\n",
    "def next_article(word):\n",
    "\n",
    "    url = 'https://en.wikipedia.org/wiki/' + word\n",
    "    r = requests.get(url)\n",
    "    soup = BeautifulSoup(r.content, \"html.parser\")\n",
    "\n",
    "    parse_output = soup.find('div',attrs={\"id\":u\"bodyContent\"})\\\n",
    "                        .find('div',attrs={\"id\":u\"mw-content-text\"})\\\n",
    "                        .find('div',attrs={\"class\":u\"mw-parser-output\"})\n",
    "\n",
    "    for i in parse_output.children:\n",
    "        if i.name == 'p':\n",
    "            possible_refs = i.find_all(filter)\n",
    "            for j in possible_refs:\n",
    "                href = str(j.get('href'))\n",
    "                if href.startswith(\"/wiki/\") \\\n",
    "                and not (href.startswith(\"#\") \\\n",
    "                        or href.startswith(\"/Wikipedia:\")\n",
    "                        or href.startswith(\"/wiki/Help\")\n",
    "                        or href.startswith('/wiki/File')\n",
    "                        or href.startswith('/wiki/Wikipedia:Citation_needed')\n",
    "                        or href.startswith('//upload.wikimedia.org/')):\n",
    "#                     print(\"href \" + href.replace(\"/wiki/\", \"\"))\n",
    "                    return href.replace(\"/wiki/\", \"\")"
   ]
  },
  {
   "cell_type": "code",
   "execution_count": 156,
   "metadata": {},
   "outputs": [
    {
     "name": "stdout",
     "output_type": "stream",
     "text": [
      "Give me only 1 name of the orticle from Wikipedia please!\n"
     ]
    },
    {
     "ename": "SystemExit",
     "evalue": "0",
     "output_type": "error",
     "traceback": [
      "An exception has occurred, use %tb to see the full traceback.\n",
      "\u001b[0;31mSystemExit\u001b[0m\u001b[0;31m:\u001b[0m 0\n"
     ]
    },
    {
     "name": "stderr",
     "output_type": "stream",
     "text": [
      "/Users/vlapparov/anaconda3/lib/python3.6/site-packages/IPython/core/interactiveshell.py:2971: UserWarning: To exit: use 'exit', 'quit', or Ctrl-D.\n",
      "  warn(\"To exit: use 'exit', 'quit', or Ctrl-D.\", stacklevel=1)\n"
     ]
    }
   ],
   "source": [
    "def road_to_philo():    \n",
    "    import sys\n",
    "    if len(sys.argv) != 2:\n",
    "        print('Give me only 1 article name from Wikipedia please!')\n",
    "        sys.exit()\n",
    "    ref = sys.argv[1]\n",
    "    list_of_ref = [ref]\n",
    "    ref = next_article(ref)\n",
    "    while ref is not None:\n",
    "#         print(ref)\n",
    "        list_of_ref.append(ref)\n",
    "        next_article(ref)\n",
    "        ref = next_article(ref)\n",
    "\n",
    "        if ref in list_of_ref:\n",
    "            print('Infinite loop!')\n",
    "            sys.exit()\n",
    "    #     pass\n",
    "        if ref == 'Philosophy': \n",
    "            print('{} steps to the Philosophy starting from {}.'.format(len(list_of_ref), list_of_ref[0]))\n",
    "            print('Path:\\n')\n",
    "            for i in range(len(list_of_ref)):\n",
    "                print('{} -> '.format(list_of_ref[i]))\n",
    "            print('Philosophy')\n",
    "            sys.exit()\n",
    "\n",
    "if __name__ == '__main__':\n",
    "    road_to_philo()"
   ]
  }
 ],
 "metadata": {
  "kernelspec": {
   "display_name": "Python 3",
   "language": "python",
   "name": "python3"
  },
  "language_info": {
   "codemirror_mode": {
    "name": "ipython",
    "version": 3
   },
   "file_extension": ".py",
   "mimetype": "text/x-python",
   "name": "python",
   "nbconvert_exporter": "python",
   "pygments_lexer": "ipython3",
   "version": "3.6.5"
  }
 },
 "nbformat": 4,
 "nbformat_minor": 2
}
