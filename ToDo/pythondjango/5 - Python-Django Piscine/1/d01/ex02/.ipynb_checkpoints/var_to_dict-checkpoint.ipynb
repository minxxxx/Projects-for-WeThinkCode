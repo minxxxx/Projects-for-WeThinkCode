{
 "cells": [
  {
   "cell_type": "code",
   "execution_count": 32,
   "metadata": {},
   "outputs": [
    {
     "name": "stdout",
     "output_type": "stream",
     "text": [
      "1942 : Garcia\n",
      "1946 : Allman\n",
      "1925 : King\n",
      "1945 : Clapton\n",
      "1911 : Johnson\n",
      "1926 : Berry\n",
      "1954 : Vaughan\n",
      "1947 : Santana\n",
      "1944 : Beck\n",
      "1943 : Richards\n",
      "1962 : Hammett\n",
      "1967 : Cobain\n",
      "1948 : Ramone\n",
      "1975 : White\n",
      "1970 : Frusciante\n",
      "1949 : Thompson\n",
      "1939 : Burton\n"
     ]
    }
   ],
   "source": [
    "def my_var():\n",
    "    d = [\n",
    "    ('Hendrix' , '1942'),\n",
    "    ('Allman' , '1946'),\n",
    "    ('King' , '1925'),\n",
    "    ('Clapton' , '1945'),\n",
    "    ('Johnson' , '1911'),\n",
    "    ('Berry' , '1926'),\n",
    "    ('Vaughan' , '1954'),\n",
    "    ('Cooder' , '1947'),\n",
    "    ('Page' , '1944'),\n",
    "    ('Richards' , '1943'),\n",
    "    ('Hammett' , '1962'),\n",
    "    ('Cobain' , '1967'),\n",
    "    ('Garcia' , '1942'),\n",
    "    ('Beck' , '1944'),\n",
    "    ('Santana' , '1947'),\n",
    "    ('Ramone' , '1948'),\n",
    "    ('White' , '1975'),\n",
    "    ('Frusciante', '1970'),\n",
    "    ('Thompson' , '1949'),\n",
    "    ('Burton' , '1939')\n",
    "    ]\n",
    "\n",
    "    my_dict = {int(key):val for (val, key) in d}\n",
    "    for i in my_dict:\n",
    "        print(str(i) + ' : ' + my_dict[i])\n",
    "    \n",
    "if __name__ == '__main__':\n",
    "    my_var()"
   ]
  }
 ],
 "metadata": {
  "kernelspec": {
   "display_name": "Python 3",
   "language": "python",
   "name": "python3"
  },
  "language_info": {
   "codemirror_mode": {
    "name": "ipython",
    "version": 3
   },
   "file_extension": ".py",
   "mimetype": "text/x-python",
   "name": "python",
   "nbconvert_exporter": "python",
   "pygments_lexer": "ipython3",
   "version": "3.6.5"
  }
 },
 "nbformat": 4,
 "nbformat_minor": 2
}
