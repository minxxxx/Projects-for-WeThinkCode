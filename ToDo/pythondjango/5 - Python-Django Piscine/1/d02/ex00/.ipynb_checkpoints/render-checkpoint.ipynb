{
 "cells": [
  {
   "cell_type": "code",
   "execution_count": 81,
   "metadata": {},
   "outputs": [],
   "source": [
    "def my_var():\n",
    "    import sys, os, re\n",
    "\n",
    "    f = open(os.getcwd() + '/settings.py', 'r')\n",
    "    l = []\n",
    "    for i in f.read().replace('\\n', ',').split(','):\n",
    "    #     print(i)\n",
    "        l.append(i.strip().split(' = '))\n",
    "\n",
    "    d = dict((i[0].replace('\\'', ''), i[1].replace('\"', '')) for i in l)\n",
    "\n",
    "    filename = sys.argv[1]\n",
    "\n",
    "    try:\n",
    "        if re.match(\"\\w+.template\", filename):\n",
    "        #     print(filename)\n",
    "            template_file = open(filename, 'r')\n",
    "            output = open(filename.split('.')[0] + '.html', 'w')\n",
    "            output.write(template_file.read().format_map(d))\n",
    "            output.close()\n",
    "        else:\n",
    "            print('No template file in the directory')\n",
    "            sys.exit(0)\n",
    "    except FileExistsError as err:\n",
    "        print(\"File {} doesn't exist!\".format(err.filename))\n",
    "        sys.exit(0)\n",
    "    except FileNotFoundError as err:\n",
    "        print(\"File {} not found!\".format(err.filename))\n",
    "        sys.exit(0)\n",
    "    except Exception as err:\n",
    "        print(\"Some error occured!\")\n",
    "        sys.exit(0)\n",
    "\n",
    "if __name__ == '__main__':\n",
    "    my_var()"
   ]
  }
 ],
 "metadata": {
  "kernelspec": {
   "display_name": "Python 3",
   "language": "python",
   "name": "python3"
  },
  "language_info": {
   "codemirror_mode": {
    "name": "ipython",
    "version": 3
   },
   "file_extension": ".py",
   "mimetype": "text/x-python",
   "name": "python",
   "nbconvert_exporter": "python",
   "pygments_lexer": "ipython3",
   "version": "3.6.5"
  }
 },
 "nbformat": 4,
 "nbformat_minor": 2
}
