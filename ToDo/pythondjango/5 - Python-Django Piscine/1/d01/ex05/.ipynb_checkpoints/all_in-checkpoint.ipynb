{
 "cells": [
  {
   "cell_type": "code",
   "execution_count": 105,
   "metadata": {},
   "outputs": [
    {
     "name": "stdout",
     "output_type": "stream",
     "text": [
      "Trenton is the capital of New Jersey\n",
      "Tren Ton is neither a capital city nor a state\n",
      "Newjersey is neither a capital city nor a state\n",
      "Trenton is the capital of New Jersey\n",
      "Toto is neither a capital city nor a state\n",
      "Salem is the capital of Oregon\n"
     ]
    }
   ],
   "source": [
    "from sys import argv\n",
    "\n",
    "def my_var():\n",
    "    states = {\n",
    "        \"Oregon\" : \"OR\",\n",
    "        \"Alabama\" : \"AL\",\n",
    "        \"New Jersey\": \"NJ\",\n",
    "        \"Colorado\" : \"CO\"\n",
    "        }\n",
    "    capital_cities = {\n",
    "        \"OR\": \"Salem\",\n",
    "        \"AL\": \"Montgomery\",\n",
    "        \"NJ\": \"Trenton\",\n",
    "        \"CO\": \"Denver\"\n",
    "        }\n",
    "\n",
    "    # s = \"New jersey, Tren ton, NewJersey, Trenton, toto, , sAlem\"\n",
    "    # s.split(',')\n",
    "\n",
    "\n",
    "    # In[100]:\n",
    "\n",
    "\n",
    "    l = []\n",
    "    for w in argv[1].split(','):\n",
    "        l.append(w.strip().title())\n",
    "\n",
    "\n",
    "    # In[101]:\n",
    "\n",
    "\n",
    "    def check_state(x):\n",
    "        if(x == ''): return False\n",
    "        else:\n",
    "            if(x in states):\n",
    "                if(states[x] in capital_cities):\n",
    "                    print(str(capital_cities[states[x]]) + ' is the capital of ' + x)\n",
    "                    return False\n",
    "            else:\n",
    "    #             print(x + ' is neither a capital city nor a state')\n",
    "                return True\n",
    "\n",
    "\n",
    "    # In[102]:\n",
    "\n",
    "\n",
    "    def check_capital(x):\n",
    "        if(x == ''): return False\n",
    "        else:\n",
    "            for (acr, cap) in capital_cities.items():\n",
    "                if(cap == x):\n",
    "                    for (cap2, acr2) in states.items():\n",
    "                        if(acr == acr2):\n",
    "                            print(x + ' is the capital of ' + cap2)\n",
    "                            return False\n",
    "        return True\n",
    "\n",
    "\n",
    "    # In[103]:\n",
    "\n",
    "\n",
    "    for i in l:\n",
    "        if(check_state(i) and check_capital(i)): \n",
    "            print(i + ' is neither a capital city nor a state')\n",
    "            \n",
    "if __name__ == '__main__':\n",
    "    my_var()\n"
   ]
  }
 ],
 "metadata": {
  "kernelspec": {
   "display_name": "Python 3",
   "language": "python",
   "name": "python3"
  },
  "language_info": {
   "codemirror_mode": {
    "name": "ipython",
    "version": 3
   },
   "file_extension": ".py",
   "mimetype": "text/x-python",
   "name": "python",
   "nbconvert_exporter": "python",
   "pygments_lexer": "ipython3",
   "version": "3.6.5"
  }
 },
 "nbformat": 4,
 "nbformat_minor": 2
}
