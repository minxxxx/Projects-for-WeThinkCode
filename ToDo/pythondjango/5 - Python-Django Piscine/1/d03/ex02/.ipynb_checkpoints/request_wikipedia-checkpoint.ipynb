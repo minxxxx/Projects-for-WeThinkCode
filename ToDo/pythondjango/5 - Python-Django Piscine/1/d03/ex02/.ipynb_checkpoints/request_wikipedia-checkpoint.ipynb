{
 "cells": [
  {
   "cell_type": "code",
   "execution_count": 98,
   "metadata": {},
   "outputs": [],
   "source": [
    "def my_var():\n",
    "    import requests, json, sys\n",
    "    from dewiki import parser\n",
    "\n",
    "    # word = \"Ronaldo_(Brazilian_footballer)\"\n",
    "    # word = 'Russia'\n",
    "#     word = 'Pain au chocolat'\n",
    "\n",
    "    if(len(sys.argv) == 1):\n",
    "        print('Dude, you gave me an empty string!\\nType something!')\n",
    "        sys.exit()\n",
    "    \n",
    "\n",
    "    req = requests.get(\"https://en.wikipedia.org/w/api.php?action=query&titles={}&prop=revisions&rvprop=content&format=json\".format(sys.argv[1]))\n",
    "\n",
    "\n",
    "\n",
    "\n",
    "    if req.status_code != 200:\n",
    "        print('An error occured!')\n",
    "        sys.exit()\n",
    "\n",
    "    json_text = json.loads(req.text)\n",
    "\n",
    "    almost_text = json_text['query']['pages']\n",
    "\n",
    "    for i in almost_text.values():\n",
    "        if 'revisions' in i:\n",
    "#             print('We have some information about it!\\n')\n",
    "            for j in almost_text.values():\n",
    "                row_info = j['revisions'][0]['*']\n",
    "        else:\n",
    "            print('No info about this word!')\n",
    "            sys.exit()\n",
    "\n",
    "\n",
    "    text = parser.Parser().parse_string(row_info)\n",
    "    filename = '{}.wiki'.format(sys.argv[1].replace(' ', '_'))\n",
    "    with open(filename, 'w') as f:\n",
    "        f.write(text)\n",
    "\n",
    "if __name__ == '__main__':\n",
    "    my_var()"
   ]
  }
 ],
 "metadata": {
  "kernelspec": {
   "display_name": "Python 3",
   "language": "python",
   "name": "python3"
  },
  "language_info": {
   "codemirror_mode": {
    "name": "ipython",
    "version": 3
   },
   "file_extension": ".py",
   "mimetype": "text/x-python",
   "name": "python",
   "nbconvert_exporter": "python",
   "pygments_lexer": "ipython3",
   "version": "3.6.5"
  }
 },
 "nbformat": 4,
 "nbformat_minor": 2
}
