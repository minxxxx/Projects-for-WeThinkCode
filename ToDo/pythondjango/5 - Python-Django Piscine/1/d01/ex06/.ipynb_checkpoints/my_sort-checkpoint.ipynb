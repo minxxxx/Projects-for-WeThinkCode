{
 "cells": [
  {
   "cell_type": "code",
   "execution_count": 58,
   "metadata": {},
   "outputs": [
    {
     "name": "stdout",
     "output_type": "stream",
     "text": [
      "Johnson\n",
      "King\n",
      "Berry\n",
      "Burton\n",
      "Garcia Hendrix\n",
      "Richards\n",
      "Beck Page\n",
      "Clapton\n",
      "Allman\n",
      "Cooder Santana\n",
      "Ramone\n",
      "Thompson\n",
      "Vaughan\n",
      "Hammett\n",
      "Cobain\n",
      "Frusciante\n",
      "White\n"
     ]
    }
   ],
   "source": [
    "def my_var():\n",
    "    d = {\n",
    "    'Hendrix' : '1942',\n",
    "    'Allman' : '1946',\n",
    "    'King' : '1925',\n",
    "    'Clapton' : '1945',\n",
    "    'Johnson' : '1911',\n",
    "    'Berry' : '1926',\n",
    "    'Vaughan' : '1954',\n",
    "    'Cooder' : '1947',\n",
    "    'Page' : '1944',\n",
    "    'Richards' : '1943',\n",
    "    'Hammett' : '1962',\n",
    "    'Cobain' : '1967',\n",
    "    'Garcia' : '1942',\n",
    "    'Beck' : '1944',\n",
    "    'Santana' : '1947',\n",
    "    'Ramone' : '1948',\n",
    "    'White' : '1975',\n",
    "    'Frusciante': '1970',\n",
    "    'Thompson' : '1949',\n",
    "    'Burton' : '1939',\n",
    "    }\n",
    "\n",
    "\n",
    "    sorted_by_year = sorted(d.items(), key=lambda kv: kv[1])\n",
    "\n",
    "    d2 = {}\n",
    "    for (val, key) in sorted_by_year:\n",
    "        d2[key] = []\n",
    "    for (val, key) in sorted_by_year:    \n",
    "        d2[key].append(val)\n",
    "\n",
    "    for i in d2.values():\n",
    "        print(*sorted(i))\n",
    "        \n",
    "if __name__ == '__main__':\n",
    "    my_var()"
   ]
  }
 ],
 "metadata": {
  "kernelspec": {
   "display_name": "Python 3",
   "language": "python",
   "name": "python3"
  },
  "language_info": {
   "codemirror_mode": {
    "name": "ipython",
    "version": 3
   },
   "file_extension": ".py",
   "mimetype": "text/x-python",
   "name": "python",
   "nbconvert_exporter": "python",
   "pygments_lexer": "ipython3",
   "version": "3.6.5"
  }
 },
 "nbformat": 4,
 "nbformat_minor": 2
}
