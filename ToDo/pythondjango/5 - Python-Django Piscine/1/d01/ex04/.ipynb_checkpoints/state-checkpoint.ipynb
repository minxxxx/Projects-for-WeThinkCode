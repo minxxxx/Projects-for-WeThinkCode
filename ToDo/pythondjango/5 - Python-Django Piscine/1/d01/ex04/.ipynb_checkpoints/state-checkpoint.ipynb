{
 "cells": [
  {
   "cell_type": "code",
   "execution_count": null,
   "metadata": {},
   "outputs": [],
   "source": [
    "from sys import argv\n",
    "\n",
    "def my_var():\n",
    "    states = {\n",
    "    \"Oregon\" : \"OR\",\n",
    "    \"Alabama\" : \"AL\",\n",
    "    \"New Jersey\": \"NJ\",\n",
    "    \"Colorado\" : \"CO\"\n",
    "    }\n",
    "    capital_cities = {\n",
    "    \"OR\": \"Salem\",\n",
    "    \"AL\": \"Montgomery\",\n",
    "    \"NJ\": \"Trenton\",\n",
    "    \"CO\": \"Denver\"\n",
    "    }\n",
    "\n",
    "    \n",
    "    \n",
    "    if(len(argv) != 2): return\n",
    "    else:\n",
    "        for acr, cap in capital_cities.items():\n",
    "#             print(cap, argv[1])\n",
    "            if(cap == argv[1]):\n",
    "#                 print('Good')\n",
    "                for cap2, acr2 in states.items(): \n",
    "#                     print(cap, cap2)\n",
    "                    if(acr == acr2):\n",
    "                        print(cap2)\n",
    "                        return\n",
    "                    else: \n",
    "                        print('Unknown capital city.')\n",
    "                        return\n",
    "            else: \n",
    "                print('Unknown capital city.')\n",
    "                return\n",
    "    \n",
    "        \n",
    "if __name__ == '__main__':\n",
    "    my_var()\n",
    "\n"
   ]
  }
 ],
 "metadata": {
  "kernelspec": {
   "display_name": "Python 3",
   "language": "python",
   "name": "python3"
  },
  "language_info": {
   "codemirror_mode": {
    "name": "ipython",
    "version": 3
   },
   "file_extension": ".py",
   "mimetype": "text/x-python",
   "name": "python",
   "nbconvert_exporter": "python",
   "pygments_lexer": "ipython3",
   "version": "3.6.5"
  }
 },
 "nbformat": 4,
 "nbformat_minor": 2
}
