{
 "cells": [
  {
   "cell_type": "code",
   "execution_count": 18,
   "metadata": {},
   "outputs": [
    {
     "name": "stdout",
     "output_type": "stream",
     "text": [
      "Montgomery\n"
     ]
    }
   ],
   "source": [
    "from sys import argv\n",
    "\n",
    "def my_var():\n",
    "    states = {\n",
    "    \"Oregon\" : \"OR\",\n",
    "    \"Alabama\" : \"AL\",\n",
    "    \"New Jersey\": \"NJ\",\n",
    "    \"Colorado\" : \"CO\"\n",
    "    }\n",
    "    capital_cities = {\n",
    "    \"OR\": \"Salem\",\n",
    "    \"AL\": \"Montgomery\",\n",
    "    \"NJ\": \"Trenton\",\n",
    "    \"CO\": \"Denver\"\n",
    "    }\n",
    "\n",
    "    \n",
    "\n",
    "    if(len(argv) != 2): return\n",
    "    else:\n",
    "        if(argv[1] in states):\n",
    "            if(states[argv[1]] in capital_cities):\n",
    "                print(capital_cities[states[argv[1]]])\n",
    "        else:\n",
    "            print('Unknown state.')\n",
    "    \n",
    "        \n",
    "if __name__ == '__main__':\n",
    "    my_var()"
   ]
  }
 ],
 "metadata": {
  "kernelspec": {
   "display_name": "Python 3",
   "language": "python",
   "name": "python3"
  },
  "language_info": {
   "codemirror_mode": {
    "name": "ipython",
    "version": 3
   },
   "file_extension": ".py",
   "mimetype": "text/x-python",
   "name": "python",
   "nbconvert_exporter": "python",
   "pygments_lexer": "ipython3",
   "version": "3.6.5"
  }
 },
 "nbformat": 4,
 "nbformat_minor": 2
}
